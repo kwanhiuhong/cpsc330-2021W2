{
 "cells": [
  {
   "cell_type": "markdown",
   "id": "e33c5b0c-d0f1-40c0-b794-3b3471ac73d2",
   "metadata": {},
   "source": [
    "# CPSC 330 - Applied Machine Learning \n",
    "\n",
    "## Homework 7: Clustering and recommender systems\n",
    "### Associated lectures: Lecture 14 and 15\n",
    "\n",
    "**Due date: Monday, November 15, 2021 at 11:59pm**"
   ]
  },
  {
   "cell_type": "code",
   "execution_count": 1,
   "id": "a4651888-484b-42a0-95e1-d273e5069205",
   "metadata": {
    "slideshow": {
     "slide_type": "skip"
    }
   },
   "outputs": [],
   "source": [
    "import os\n",
    "\n",
    "%matplotlib inline\n",
    "import matplotlib.pyplot as plt\n",
    "import numpy as np\n",
    "import pandas as pd\n",
    "import seaborn as sns\n",
    "from nltk.tokenize import sent_tokenize, word_tokenize\n",
    "from sklearn.cluster import DBSCAN, KMeans\n",
    "from sklearn.feature_extraction.text import CountVectorizer\n",
    "\n",
    "pd.set_option(\"display.max_colwidth\", 0)"
   ]
  },
  {
   "cell_type": "markdown",
   "id": "086914c2-5de1-414a-8770-23bef9f312d0",
   "metadata": {},
   "source": [
    "<br><br><br><br>"
   ]
  },
  {
   "cell_type": "markdown",
   "id": "afe22cb5-f825-4dba-b5e3-3538f4afe703",
   "metadata": {},
   "source": [
    "## Instructions \n",
    "<hr>\n",
    "rubric={points:2}\n",
    "\n",
    "Follow the [homework submission instructions](https://github.com/UBC-CS/cpsc330/blob/master/docs/homework_instructions.md). \n",
    "\n",
    "**You may work on this homework in a group and submit your assignment as a group.** Below are some instructions on working as a group.  \n",
    "- The maximum group size is 3. \n",
    "- Use group work as an opportunity to collaborate and learn new things from each other. \n",
    "- Be respectful to each other and make sure you understand all the concepts in the assignment well. \n",
    "- It's your responsibility to make sure that the assignment is submitted by one of the group members before the deadline. \n",
    "- You can find the instructions on how to do group submission on Gradescope [here](https://help.gradescope.com/article/m5qz2xsnjy-student-add-group-members)."
   ]
  },
  {
   "cell_type": "markdown",
   "id": "69be5b2d-1854-4c63-bcc6-9b6258b7293a",
   "metadata": {},
   "source": [
    "<br><br><br><br>"
   ]
  },
  {
   "cell_type": "markdown",
   "id": "05d8d363-7c31-4381-8a1d-2b2556108916",
   "metadata": {},
   "source": [
    "## Exercise 1: Document clustering toy example <a name=\"1\"></a>\n",
    "<hr>\n",
    "\n",
    "In lecture 14, we looked at a popular application of clustering: customer segmentation. In this lab, we will work on another popular application, [**document clustering**](https://en.wikipedia.org/wiki/Document_clustering). A large amount of unlabeled text data is available out there (e.g., news, recipes, online Q&A), and clustering is a commonly used technique to organize this data in a meaningful way. \n",
    "\n",
    "In this exercise, we will create a toy dataset with sentences from Wikipedia articles and cluster these sentences. In the next exercise, we'll move to a real corpus.  "
   ]
  },
  {
   "cell_type": "markdown",
   "id": "56c7b268-4b0a-4d01-9009-a33312f65d33",
   "metadata": {},
   "source": [
    "### 1.1 Sample sentences from Wikipedia articles\n",
    "rubric={points:4}\n",
    "\n",
    "The code below extracts first sentences of Wikipedia articles on a set of queries. You will need the `wikipedia` package installed in the course environment to run the code below. \n",
    "\n",
    "```conda install -c conda-forge wikipedia```\n",
    "\n",
    "**Your tasks:**\n",
    "\n",
    "Run the code below and answer the following question. \n",
    "\n",
    "1. Given this dataset, how many clusters would you expect a clustering algorithm to identify? How would you label these clusters?   \n",
    "\n",
    "> *Note 1: If you have created `conda` environment using [the course `yml` file](https://github.ubc.ca/MDS-2020-21/DSCI_563_unsup-learn_students/blob/master/env-dsci-563.yml), you should have the following packages. If not, you may have to install appropriate packages in our course's environment.*\n",
    "\n",
    "> *Note 2: Feel free to experiment with queries of your choice. But stick to the provided list for the final submission so that it's easier for the TAs when they grade your submission.*\n"
   ]
  },
  {
   "cell_type": "code",
   "execution_count": 2,
   "id": "8c71b2eb-caf0-40f7-b7b0-93f1fadbc548",
   "metadata": {},
   "outputs": [
    {
     "data": {
      "text/html": [
       "<div>\n",
       "<style scoped>\n",
       "    .dataframe tbody tr th:only-of-type {\n",
       "        vertical-align: middle;\n",
       "    }\n",
       "\n",
       "    .dataframe tbody tr th {\n",
       "        vertical-align: top;\n",
       "    }\n",
       "\n",
       "    .dataframe thead th {\n",
       "        text-align: right;\n",
       "    }\n",
       "</style>\n",
       "<table border=\"1\" class=\"dataframe\">\n",
       "  <thead>\n",
       "    <tr style=\"text-align: right;\">\n",
       "      <th></th>\n",
       "      <th>wiki query</th>\n",
       "      <th>text</th>\n",
       "      <th>n_words</th>\n",
       "    </tr>\n",
       "  </thead>\n",
       "  <tbody>\n",
       "    <tr>\n",
       "      <th>0</th>\n",
       "      <td>Raspberry</td>\n",
       "      <td>The raspberry is the edible fruit of a multitude of plant species in the genus Rubus of the rose family, most of which are in the subgenus Idaeobatus.</td>\n",
       "      <td>30</td>\n",
       "    </tr>\n",
       "    <tr>\n",
       "      <th>1</th>\n",
       "      <td>pineapple juice</td>\n",
       "      <td>Pineapple juice is a liquid made from pressing the natural liquid from the pulp of the pineapple (a fruit from a tropical plant).</td>\n",
       "      <td>26</td>\n",
       "    </tr>\n",
       "    <tr>\n",
       "      <th>2</th>\n",
       "      <td>C++</td>\n",
       "      <td>C, or c, is the third letter in the English and ISO basic Latin alphabets.</td>\n",
       "      <td>18</td>\n",
       "    </tr>\n",
       "    <tr>\n",
       "      <th>3</th>\n",
       "      <td>Python language</td>\n",
       "      <td>Python is an interpreted high-level general-purpose programming language.</td>\n",
       "      <td>9</td>\n",
       "    </tr>\n",
       "    <tr>\n",
       "      <th>4</th>\n",
       "      <td>ice skating</td>\n",
       "      <td>Ice skating is the self-propulsion and gliding of a person across an ice surface, using metal-bladed ice skates.</td>\n",
       "      <td>20</td>\n",
       "    </tr>\n",
       "    <tr>\n",
       "      <th>5</th>\n",
       "      <td>ice hockey</td>\n",
       "      <td>Ice hockey is a contact winter team sport played on ice skates, usually on a rink.</td>\n",
       "      <td>18</td>\n",
       "    </tr>\n",
       "  </tbody>\n",
       "</table>\n",
       "</div>"
      ],
      "text/plain": [
       "        wiki query  \\\n",
       "0  Raspberry         \n",
       "1  pineapple juice   \n",
       "2  C++               \n",
       "3  Python language   \n",
       "4  ice skating       \n",
       "5  ice hockey        \n",
       "\n",
       "                                                                                                                                                     text  \\\n",
       "0  The raspberry is the edible fruit of a multitude of plant species in the genus Rubus of the rose family, most of which are in the subgenus Idaeobatus.   \n",
       "1  Pineapple juice is a liquid made from pressing the natural liquid from the pulp of the pineapple (a fruit from a tropical plant).                        \n",
       "2  C, or c, is the third letter in the English and ISO basic Latin alphabets.                                                                               \n",
       "3  Python is an interpreted high-level general-purpose programming language.                                                                                \n",
       "4  Ice skating is the self-propulsion and gliding of a person across an ice surface, using metal-bladed ice skates.                                         \n",
       "5  Ice hockey is a contact winter team sport played on ice skates, usually on a rink.                                                                       \n",
       "\n",
       "   n_words  \n",
       "0  30       \n",
       "1  26       \n",
       "2  18       \n",
       "3  9        \n",
       "4  20       \n",
       "5  18       "
      ]
     },
     "execution_count": 2,
     "metadata": {},
     "output_type": "execute_result"
    }
   ],
   "source": [
    "import wikipedia\n",
    "from nltk.tokenize import sent_tokenize, word_tokenize\n",
    "\n",
    "queries = [\n",
    "    \"Raspberry\",\n",
    "    \"pineapple juice\",\n",
    "    \"C++\",\n",
    "    \"Python language\",\n",
    "    \"ice skating\",\n",
    "    \"ice hockey\",\n",
    "]\n",
    "\n",
    "wiki_dict = {\"wiki query\": [], \"text\": [], \"n_words\": []}\n",
    "for i in range(len(queries)):\n",
    "    sent = sent_tokenize(wikipedia.page(queries[i]).content)[0]\n",
    "    wiki_dict[\"text\"].append(sent)\n",
    "    wiki_dict[\"n_words\"].append(len(word_tokenize(sent)))\n",
    "    wiki_dict[\"wiki query\"].append(queries[i])\n",
    "\n",
    "wiki_df = pd.DataFrame(wiki_dict)\n",
    "wiki_df"
   ]
  },
  {
   "cell_type": "markdown",
   "id": "1506b150-103f-4500-883c-1a85a903061e",
   "metadata": {},
   "source": [
    "### BEGIN SOLUTION"
   ]
  },
  {
   "cell_type": "markdown",
   "id": "f0e8bc14-f440-4797-ab37-fef46d25dd51",
   "metadata": {},
   "source": [
    "I would expect a clustering algorithm to identify 3 clusters: fruit, programming languages, sports. "
   ]
  },
  {
   "cell_type": "markdown",
   "id": "c4ad5464-63e4-495a-8465-c427422e354a",
   "metadata": {},
   "source": [
    "### END SOLUTION"
   ]
  },
  {
   "cell_type": "markdown",
   "id": "b9f82cba-4642-4872-8b15-e49eab897821",
   "metadata": {},
   "source": [
    "<br><br>"
   ]
  },
  {
   "cell_type": "markdown",
   "id": "574346ba-94a4-4949-9be3-9ff8ea77488e",
   "metadata": {},
   "source": [
    "### 1.2 `KMeans` with bag-of-words representation \n",
    "rubric={points:6}\n",
    "\n",
    "We have seen that before we pass text to machine learning models, we need to encode it to a numeric representation. So let's encode our toy dataset above (`wiki_df`) to a numeric representation. \n",
    "\n",
    "First, let's try our good old friend: bag-of-words representation. The code below creates dense bag-of-words representation of Wikipedia sentences from 1.1 with [`CountVectorizer`](https://scikit-learn.org/stable/modules/generated/sklearn.feature_extraction.text.CountVectorizer.html). \n",
    "\n",
    "**Your tasks:**\n",
    "\n",
    "Run the code below and answer the following questions. \n",
    "\n",
    "1. Run `KMeans` clustering on the transformed data (`bow_sents`) with K = the number of clusters you identified in 1.1.  \n",
    "2. Examine clustering labels assigned by `KMeans`. Is `KMeans` doing a reasonable job in clustering the sentences? "
   ]
  },
  {
   "cell_type": "code",
   "execution_count": 3,
   "id": "09628f3b-0608-441a-af31-6f8f33ef46d8",
   "metadata": {},
   "outputs": [
    {
     "data": {
      "text/html": [
       "<div>\n",
       "<style scoped>\n",
       "    .dataframe tbody tr th:only-of-type {\n",
       "        vertical-align: middle;\n",
       "    }\n",
       "\n",
       "    .dataframe tbody tr th {\n",
       "        vertical-align: top;\n",
       "    }\n",
       "\n",
       "    .dataframe thead th {\n",
       "        text-align: right;\n",
       "    }\n",
       "</style>\n",
       "<table border=\"1\" class=\"dataframe\">\n",
       "  <thead>\n",
       "    <tr style=\"text-align: right;\">\n",
       "      <th></th>\n",
       "      <th>alphabets</th>\n",
       "      <th>basic</th>\n",
       "      <th>bladed</th>\n",
       "      <th>contact</th>\n",
       "      <th>edible</th>\n",
       "      <th>english</th>\n",
       "      <th>family</th>\n",
       "      <th>fruit</th>\n",
       "      <th>general</th>\n",
       "      <th>genus</th>\n",
       "      <th>...</th>\n",
       "      <th>skating</th>\n",
       "      <th>species</th>\n",
       "      <th>sport</th>\n",
       "      <th>subgenus</th>\n",
       "      <th>surface</th>\n",
       "      <th>team</th>\n",
       "      <th>tropical</th>\n",
       "      <th>using</th>\n",
       "      <th>usually</th>\n",
       "      <th>winter</th>\n",
       "    </tr>\n",
       "  </thead>\n",
       "  <tbody>\n",
       "    <tr>\n",
       "      <th>0</th>\n",
       "      <td>0</td>\n",
       "      <td>0</td>\n",
       "      <td>0</td>\n",
       "      <td>0</td>\n",
       "      <td>1</td>\n",
       "      <td>0</td>\n",
       "      <td>1</td>\n",
       "      <td>1</td>\n",
       "      <td>0</td>\n",
       "      <td>1</td>\n",
       "      <td>...</td>\n",
       "      <td>0</td>\n",
       "      <td>1</td>\n",
       "      <td>0</td>\n",
       "      <td>1</td>\n",
       "      <td>0</td>\n",
       "      <td>0</td>\n",
       "      <td>0</td>\n",
       "      <td>0</td>\n",
       "      <td>0</td>\n",
       "      <td>0</td>\n",
       "    </tr>\n",
       "    <tr>\n",
       "      <th>1</th>\n",
       "      <td>0</td>\n",
       "      <td>0</td>\n",
       "      <td>0</td>\n",
       "      <td>0</td>\n",
       "      <td>0</td>\n",
       "      <td>0</td>\n",
       "      <td>0</td>\n",
       "      <td>1</td>\n",
       "      <td>0</td>\n",
       "      <td>0</td>\n",
       "      <td>...</td>\n",
       "      <td>0</td>\n",
       "      <td>0</td>\n",
       "      <td>0</td>\n",
       "      <td>0</td>\n",
       "      <td>0</td>\n",
       "      <td>0</td>\n",
       "      <td>1</td>\n",
       "      <td>0</td>\n",
       "      <td>0</td>\n",
       "      <td>0</td>\n",
       "    </tr>\n",
       "    <tr>\n",
       "      <th>2</th>\n",
       "      <td>1</td>\n",
       "      <td>1</td>\n",
       "      <td>0</td>\n",
       "      <td>0</td>\n",
       "      <td>0</td>\n",
       "      <td>1</td>\n",
       "      <td>0</td>\n",
       "      <td>0</td>\n",
       "      <td>0</td>\n",
       "      <td>0</td>\n",
       "      <td>...</td>\n",
       "      <td>0</td>\n",
       "      <td>0</td>\n",
       "      <td>0</td>\n",
       "      <td>0</td>\n",
       "      <td>0</td>\n",
       "      <td>0</td>\n",
       "      <td>0</td>\n",
       "      <td>0</td>\n",
       "      <td>0</td>\n",
       "      <td>0</td>\n",
       "    </tr>\n",
       "    <tr>\n",
       "      <th>3</th>\n",
       "      <td>0</td>\n",
       "      <td>0</td>\n",
       "      <td>0</td>\n",
       "      <td>0</td>\n",
       "      <td>0</td>\n",
       "      <td>0</td>\n",
       "      <td>0</td>\n",
       "      <td>0</td>\n",
       "      <td>1</td>\n",
       "      <td>0</td>\n",
       "      <td>...</td>\n",
       "      <td>0</td>\n",
       "      <td>0</td>\n",
       "      <td>0</td>\n",
       "      <td>0</td>\n",
       "      <td>0</td>\n",
       "      <td>0</td>\n",
       "      <td>0</td>\n",
       "      <td>0</td>\n",
       "      <td>0</td>\n",
       "      <td>0</td>\n",
       "    </tr>\n",
       "    <tr>\n",
       "      <th>4</th>\n",
       "      <td>0</td>\n",
       "      <td>0</td>\n",
       "      <td>1</td>\n",
       "      <td>0</td>\n",
       "      <td>0</td>\n",
       "      <td>0</td>\n",
       "      <td>0</td>\n",
       "      <td>0</td>\n",
       "      <td>0</td>\n",
       "      <td>0</td>\n",
       "      <td>...</td>\n",
       "      <td>1</td>\n",
       "      <td>0</td>\n",
       "      <td>0</td>\n",
       "      <td>0</td>\n",
       "      <td>1</td>\n",
       "      <td>0</td>\n",
       "      <td>0</td>\n",
       "      <td>1</td>\n",
       "      <td>0</td>\n",
       "      <td>0</td>\n",
       "    </tr>\n",
       "    <tr>\n",
       "      <th>5</th>\n",
       "      <td>0</td>\n",
       "      <td>0</td>\n",
       "      <td>0</td>\n",
       "      <td>1</td>\n",
       "      <td>0</td>\n",
       "      <td>0</td>\n",
       "      <td>0</td>\n",
       "      <td>0</td>\n",
       "      <td>0</td>\n",
       "      <td>0</td>\n",
       "      <td>...</td>\n",
       "      <td>0</td>\n",
       "      <td>0</td>\n",
       "      <td>1</td>\n",
       "      <td>0</td>\n",
       "      <td>0</td>\n",
       "      <td>1</td>\n",
       "      <td>0</td>\n",
       "      <td>0</td>\n",
       "      <td>1</td>\n",
       "      <td>1</td>\n",
       "    </tr>\n",
       "  </tbody>\n",
       "</table>\n",
       "<p>6 rows × 52 columns</p>\n",
       "</div>"
      ],
      "text/plain": [
       "   alphabets  basic  bladed  contact  edible  english  family  fruit  general  \\\n",
       "0  0          0      0       0        1       0        1       1      0         \n",
       "1  0          0      0       0        0       0        0       1      0         \n",
       "2  1          1      0       0        0       1        0       0      0         \n",
       "3  0          0      0       0        0       0        0       0      1         \n",
       "4  0          0      1       0        0       0        0       0      0         \n",
       "5  0          0      0       1        0       0        0       0      0         \n",
       "\n",
       "   genus  ...  skating  species  sport  subgenus  surface  team  tropical  \\\n",
       "0  1      ...  0        1        0      1         0        0     0          \n",
       "1  0      ...  0        0        0      0         0        0     1          \n",
       "2  0      ...  0        0        0      0         0        0     0          \n",
       "3  0      ...  0        0        0      0         0        0     0          \n",
       "4  0      ...  1        0        0      0         1        0     0          \n",
       "5  0      ...  0        0        1      0         0        1     0          \n",
       "\n",
       "   using  usually  winter  \n",
       "0  0      0        0       \n",
       "1  0      0        0       \n",
       "2  0      0        0       \n",
       "3  0      0        0       \n",
       "4  1      0        0       \n",
       "5  0      1        1       \n",
       "\n",
       "[6 rows x 52 columns]"
      ]
     },
     "execution_count": 3,
     "metadata": {},
     "output_type": "execute_result"
    }
   ],
   "source": [
    "vec = CountVectorizer(stop_words='english')\n",
    "bow_sents = vec.fit_transform(wiki_df[\"text\"]).todense()\n",
    "bow_df = pd.DataFrame(\n",
    "    data=bow_sents, columns=vec.get_feature_names(), index=wiki_df.index\n",
    ")\n",
    "bow_df"
   ]
  },
  {
   "cell_type": "markdown",
   "id": "a5e9174d-c281-4bcd-bd8f-8f1cb81e4bd9",
   "metadata": {},
   "source": [
    "### BEGIN SOLUTION"
   ]
  },
  {
   "cell_type": "code",
   "execution_count": 4,
   "id": "406b2acb-e79c-47b6-af61-313043c1652a",
   "metadata": {},
   "outputs": [
    {
     "data": {
      "text/html": [
       "<div>\n",
       "<style scoped>\n",
       "    .dataframe tbody tr th:only-of-type {\n",
       "        vertical-align: middle;\n",
       "    }\n",
       "\n",
       "    .dataframe tbody tr th {\n",
       "        vertical-align: top;\n",
       "    }\n",
       "\n",
       "    .dataframe thead th {\n",
       "        text-align: right;\n",
       "    }\n",
       "</style>\n",
       "<table border=\"1\" class=\"dataframe\">\n",
       "  <thead>\n",
       "    <tr style=\"text-align: right;\">\n",
       "      <th></th>\n",
       "      <th>wiki query</th>\n",
       "      <th>text</th>\n",
       "      <th>n_words</th>\n",
       "      <th>bow_labels</th>\n",
       "    </tr>\n",
       "  </thead>\n",
       "  <tbody>\n",
       "    <tr>\n",
       "      <th>0</th>\n",
       "      <td>Raspberry</td>\n",
       "      <td>The raspberry is the edible fruit of a multitude of plant species in the genus Rubus of the rose family, most of which are in the subgenus Idaeobatus.</td>\n",
       "      <td>30</td>\n",
       "      <td>0</td>\n",
       "    </tr>\n",
       "    <tr>\n",
       "      <th>1</th>\n",
       "      <td>pineapple juice</td>\n",
       "      <td>Pineapple juice is a liquid made from pressing the natural liquid from the pulp of the pineapple (a fruit from a tropical plant).</td>\n",
       "      <td>26</td>\n",
       "      <td>1</td>\n",
       "    </tr>\n",
       "    <tr>\n",
       "      <th>2</th>\n",
       "      <td>C++</td>\n",
       "      <td>C, or c, is the third letter in the English and ISO basic Latin alphabets.</td>\n",
       "      <td>18</td>\n",
       "      <td>0</td>\n",
       "    </tr>\n",
       "    <tr>\n",
       "      <th>3</th>\n",
       "      <td>Python language</td>\n",
       "      <td>Python is an interpreted high-level general-purpose programming language.</td>\n",
       "      <td>9</td>\n",
       "      <td>0</td>\n",
       "    </tr>\n",
       "    <tr>\n",
       "      <th>4</th>\n",
       "      <td>ice skating</td>\n",
       "      <td>Ice skating is the self-propulsion and gliding of a person across an ice surface, using metal-bladed ice skates.</td>\n",
       "      <td>20</td>\n",
       "      <td>2</td>\n",
       "    </tr>\n",
       "    <tr>\n",
       "      <th>5</th>\n",
       "      <td>ice hockey</td>\n",
       "      <td>Ice hockey is a contact winter team sport played on ice skates, usually on a rink.</td>\n",
       "      <td>18</td>\n",
       "      <td>2</td>\n",
       "    </tr>\n",
       "  </tbody>\n",
       "</table>\n",
       "</div>"
      ],
      "text/plain": [
       "        wiki query  \\\n",
       "0  Raspberry         \n",
       "1  pineapple juice   \n",
       "2  C++               \n",
       "3  Python language   \n",
       "4  ice skating       \n",
       "5  ice hockey        \n",
       "\n",
       "                                                                                                                                                     text  \\\n",
       "0  The raspberry is the edible fruit of a multitude of plant species in the genus Rubus of the rose family, most of which are in the subgenus Idaeobatus.   \n",
       "1  Pineapple juice is a liquid made from pressing the natural liquid from the pulp of the pineapple (a fruit from a tropical plant).                        \n",
       "2  C, or c, is the third letter in the English and ISO basic Latin alphabets.                                                                               \n",
       "3  Python is an interpreted high-level general-purpose programming language.                                                                                \n",
       "4  Ice skating is the self-propulsion and gliding of a person across an ice surface, using metal-bladed ice skates.                                         \n",
       "5  Ice hockey is a contact winter team sport played on ice skates, usually on a rink.                                                                       \n",
       "\n",
       "   n_words  bow_labels  \n",
       "0  30       0           \n",
       "1  26       1           \n",
       "2  18       0           \n",
       "3  9        0           \n",
       "4  20       2           \n",
       "5  18       2           "
      ]
     },
     "execution_count": 4,
     "metadata": {},
     "output_type": "execute_result"
    }
   ],
   "source": [
    "kmeans_bow = KMeans(n_clusters=3, random_state=42)\n",
    "kmeans_bow.fit(bow_sents)\n",
    "wiki_df[\"bow_labels\"] = kmeans_bow.labels_\n",
    "wiki_df"
   ]
  },
  {
   "cell_type": "markdown",
   "id": "40526efb-82c7-42e2-b0e1-23e99b3230ad",
   "metadata": {},
   "source": [
    "I would say `KMeans` is doing a reasonable job here, given that we are training only on six sentences. It's putting one sentence in the wrong cluster but other than that it's correctly identifying the expected clusters. \n",
    "\n",
    "> *Extra information: Similarity based on bag-of-words representation is based on the idea that when documents have similar column vectors, they tend to have similar meaning. Since we are training K-Means only on six examples, it's possible that we do not find any meaning patterns in the representation of the documents.*"
   ]
  },
  {
   "cell_type": "markdown",
   "id": "5d9fa92c-e42e-4f17-a988-5be5f0e047f3",
   "metadata": {},
   "source": [
    "### END SOLUTION"
   ]
  },
  {
   "cell_type": "markdown",
   "id": "02261e6d-8195-4248-9c21-5bc520baa89e",
   "metadata": {},
   "source": [
    "<br><br>"
   ]
  },
  {
   "cell_type": "markdown",
   "id": "8d1e1b0b-faec-4b86-9e59-b45b3a133e2f",
   "metadata": {},
   "source": [
    "### 1.3 Sentence embedding representation\n",
    "rubric={points:10}\n",
    "\n",
    "Bag-of-words representation is limited in that it does not take into account word ordering and context. There are other richer representations of text, and we are going to use one such representation in this lab. \n",
    "\n",
    "The code below creates an alternative and a more expressive representation of sentences. We will call it *sentence embedding representation*. We'll use [sentence transformer](https://www.sbert.net/index.html) to extract these representations. At this point it's enough to know that this is an alternative representation of text which usually works better than simple bag-of-words representation. We will talk a bit more about embedding representations next week. You need to install `sentence-transformers` in the course conda environment to run the code below. \n",
    "\n",
    "```conda install -c conda-forge sentence-transformers```\n",
    "\n",
    "**Your tasks:**\n",
    "\n",
    "Run the code below and answer the following questions. \n",
    "\n",
    "1. How many dimensions (features associated with each example) are present in this representation? \n",
    "2. Run `KMeans` clustering with sentence embedding representation of text (`emb_sents`) and examine cluster labels. \n",
    "3. How well the sentences are clustered together? "
   ]
  },
  {
   "cell_type": "code",
   "execution_count": 5,
   "id": "0a092544-58d7-418d-84ff-2e898ece2c2f",
   "metadata": {},
   "outputs": [],
   "source": [
    "from sentence_transformers import SentenceTransformer\n",
    "\n",
    "embedder = SentenceTransformer(\"paraphrase-distilroberta-base-v1\")"
   ]
  },
  {
   "cell_type": "code",
   "execution_count": 6,
   "id": "20174ee5-9122-4c10-b112-4a675653fee8",
   "metadata": {},
   "outputs": [
    {
     "data": {
      "text/html": [
       "<div>\n",
       "<style scoped>\n",
       "    .dataframe tbody tr th:only-of-type {\n",
       "        vertical-align: middle;\n",
       "    }\n",
       "\n",
       "    .dataframe tbody tr th {\n",
       "        vertical-align: top;\n",
       "    }\n",
       "\n",
       "    .dataframe thead th {\n",
       "        text-align: right;\n",
       "    }\n",
       "</style>\n",
       "<table border=\"1\" class=\"dataframe\">\n",
       "  <thead>\n",
       "    <tr style=\"text-align: right;\">\n",
       "      <th></th>\n",
       "      <th>0</th>\n",
       "      <th>1</th>\n",
       "      <th>2</th>\n",
       "      <th>3</th>\n",
       "      <th>4</th>\n",
       "      <th>5</th>\n",
       "      <th>6</th>\n",
       "      <th>7</th>\n",
       "      <th>8</th>\n",
       "      <th>9</th>\n",
       "      <th>...</th>\n",
       "      <th>758</th>\n",
       "      <th>759</th>\n",
       "      <th>760</th>\n",
       "      <th>761</th>\n",
       "      <th>762</th>\n",
       "      <th>763</th>\n",
       "      <th>764</th>\n",
       "      <th>765</th>\n",
       "      <th>766</th>\n",
       "      <th>767</th>\n",
       "    </tr>\n",
       "  </thead>\n",
       "  <tbody>\n",
       "    <tr>\n",
       "      <th>0</th>\n",
       "      <td>-0.257144</td>\n",
       "      <td>0.279161</td>\n",
       "      <td>0.222628</td>\n",
       "      <td>0.190509</td>\n",
       "      <td>0.057312</td>\n",
       "      <td>0.215432</td>\n",
       "      <td>0.124739</td>\n",
       "      <td>0.256541</td>\n",
       "      <td>-0.093520</td>\n",
       "      <td>0.304061</td>\n",
       "      <td>...</td>\n",
       "      <td>-0.350746</td>\n",
       "      <td>-0.103448</td>\n",
       "      <td>0.188898</td>\n",
       "      <td>0.002680</td>\n",
       "      <td>0.364525</td>\n",
       "      <td>0.270560</td>\n",
       "      <td>0.617304</td>\n",
       "      <td>0.565283</td>\n",
       "      <td>0.068011</td>\n",
       "      <td>0.210108</td>\n",
       "    </tr>\n",
       "    <tr>\n",
       "      <th>1</th>\n",
       "      <td>-0.290965</td>\n",
       "      <td>-0.031943</td>\n",
       "      <td>0.380002</td>\n",
       "      <td>-0.573991</td>\n",
       "      <td>0.111923</td>\n",
       "      <td>0.211589</td>\n",
       "      <td>0.019101</td>\n",
       "      <td>0.148984</td>\n",
       "      <td>-0.191977</td>\n",
       "      <td>0.145038</td>\n",
       "      <td>...</td>\n",
       "      <td>-0.148716</td>\n",
       "      <td>-0.354244</td>\n",
       "      <td>0.104274</td>\n",
       "      <td>0.106134</td>\n",
       "      <td>-0.035008</td>\n",
       "      <td>-0.090725</td>\n",
       "      <td>0.222807</td>\n",
       "      <td>0.122007</td>\n",
       "      <td>0.184175</td>\n",
       "      <td>0.106657</td>\n",
       "    </tr>\n",
       "    <tr>\n",
       "      <th>2</th>\n",
       "      <td>0.153845</td>\n",
       "      <td>0.386149</td>\n",
       "      <td>-0.158206</td>\n",
       "      <td>0.109354</td>\n",
       "      <td>-0.231288</td>\n",
       "      <td>0.786567</td>\n",
       "      <td>-0.081636</td>\n",
       "      <td>0.136139</td>\n",
       "      <td>0.012240</td>\n",
       "      <td>-0.067400</td>\n",
       "      <td>...</td>\n",
       "      <td>0.350464</td>\n",
       "      <td>-0.379115</td>\n",
       "      <td>0.318390</td>\n",
       "      <td>-0.097494</td>\n",
       "      <td>0.035448</td>\n",
       "      <td>0.148766</td>\n",
       "      <td>-0.030126</td>\n",
       "      <td>0.550204</td>\n",
       "      <td>-0.049164</td>\n",
       "      <td>-0.081204</td>\n",
       "    </tr>\n",
       "    <tr>\n",
       "      <th>3</th>\n",
       "      <td>0.112806</td>\n",
       "      <td>-0.137214</td>\n",
       "      <td>0.082946</td>\n",
       "      <td>-0.066925</td>\n",
       "      <td>0.558055</td>\n",
       "      <td>0.197494</td>\n",
       "      <td>-0.034394</td>\n",
       "      <td>0.421297</td>\n",
       "      <td>0.105453</td>\n",
       "      <td>0.280035</td>\n",
       "      <td>...</td>\n",
       "      <td>0.464874</td>\n",
       "      <td>0.291358</td>\n",
       "      <td>-0.028042</td>\n",
       "      <td>0.120064</td>\n",
       "      <td>0.021189</td>\n",
       "      <td>0.300265</td>\n",
       "      <td>0.323036</td>\n",
       "      <td>0.072128</td>\n",
       "      <td>0.047298</td>\n",
       "      <td>-0.076177</td>\n",
       "    </tr>\n",
       "    <tr>\n",
       "      <th>4</th>\n",
       "      <td>0.163048</td>\n",
       "      <td>0.088818</td>\n",
       "      <td>0.217384</td>\n",
       "      <td>-0.029764</td>\n",
       "      <td>0.434801</td>\n",
       "      <td>-0.301344</td>\n",
       "      <td>0.078771</td>\n",
       "      <td>0.283943</td>\n",
       "      <td>0.133594</td>\n",
       "      <td>-0.129889</td>\n",
       "      <td>...</td>\n",
       "      <td>0.111946</td>\n",
       "      <td>0.183323</td>\n",
       "      <td>-0.098695</td>\n",
       "      <td>-0.012922</td>\n",
       "      <td>-0.600098</td>\n",
       "      <td>-0.059101</td>\n",
       "      <td>-0.049035</td>\n",
       "      <td>0.376602</td>\n",
       "      <td>0.082766</td>\n",
       "      <td>0.022500</td>\n",
       "    </tr>\n",
       "    <tr>\n",
       "      <th>5</th>\n",
       "      <td>0.259059</td>\n",
       "      <td>-0.129934</td>\n",
       "      <td>0.071756</td>\n",
       "      <td>0.191412</td>\n",
       "      <td>0.381049</td>\n",
       "      <td>-0.601059</td>\n",
       "      <td>0.218905</td>\n",
       "      <td>0.163288</td>\n",
       "      <td>-0.055775</td>\n",
       "      <td>0.010474</td>\n",
       "      <td>...</td>\n",
       "      <td>0.324017</td>\n",
       "      <td>-0.095381</td>\n",
       "      <td>-0.078388</td>\n",
       "      <td>0.182071</td>\n",
       "      <td>-0.479674</td>\n",
       "      <td>0.153994</td>\n",
       "      <td>-0.015770</td>\n",
       "      <td>0.611786</td>\n",
       "      <td>0.145040</td>\n",
       "      <td>-0.090170</td>\n",
       "    </tr>\n",
       "  </tbody>\n",
       "</table>\n",
       "<p>6 rows × 768 columns</p>\n",
       "</div>"
      ],
      "text/plain": [
       "          0         1         2         3         4         5         6  \\\n",
       "0 -0.257144  0.279161  0.222628  0.190509  0.057312  0.215432  0.124739   \n",
       "1 -0.290965 -0.031943  0.380002 -0.573991  0.111923  0.211589  0.019101   \n",
       "2  0.153845  0.386149 -0.158206  0.109354 -0.231288  0.786567 -0.081636   \n",
       "3  0.112806 -0.137214  0.082946 -0.066925  0.558055  0.197494 -0.034394   \n",
       "4  0.163048  0.088818  0.217384 -0.029764  0.434801 -0.301344  0.078771   \n",
       "5  0.259059 -0.129934  0.071756  0.191412  0.381049 -0.601059  0.218905   \n",
       "\n",
       "          7         8         9  ...       758       759       760       761  \\\n",
       "0  0.256541 -0.093520  0.304061  ... -0.350746 -0.103448  0.188898  0.002680   \n",
       "1  0.148984 -0.191977  0.145038  ... -0.148716 -0.354244  0.104274  0.106134   \n",
       "2  0.136139  0.012240 -0.067400  ...  0.350464 -0.379115  0.318390 -0.097494   \n",
       "3  0.421297  0.105453  0.280035  ...  0.464874  0.291358 -0.028042  0.120064   \n",
       "4  0.283943  0.133594 -0.129889  ...  0.111946  0.183323 -0.098695 -0.012922   \n",
       "5  0.163288 -0.055775  0.010474  ...  0.324017 -0.095381 -0.078388  0.182071   \n",
       "\n",
       "        762       763       764       765       766       767  \n",
       "0  0.364525  0.270560  0.617304  0.565283  0.068011  0.210108  \n",
       "1 -0.035008 -0.090725  0.222807  0.122007  0.184175  0.106657  \n",
       "2  0.035448  0.148766 -0.030126  0.550204 -0.049164 -0.081204  \n",
       "3  0.021189  0.300265  0.323036  0.072128  0.047298 -0.076177  \n",
       "4 -0.600098 -0.059101 -0.049035  0.376602  0.082766  0.022500  \n",
       "5 -0.479674  0.153994 -0.015770  0.611786  0.145040 -0.090170  \n",
       "\n",
       "[6 rows x 768 columns]"
      ]
     },
     "execution_count": 6,
     "metadata": {},
     "output_type": "execute_result"
    }
   ],
   "source": [
    "emb_sents = embedder.encode(wiki_df[\"text\"])\n",
    "emb_sent_df = pd.DataFrame(emb_sents, index=wiki_df.index)\n",
    "emb_sent_df"
   ]
  },
  {
   "cell_type": "markdown",
   "id": "fe69f2a3-8c0a-4e4d-b049-9709a4aa731e",
   "metadata": {},
   "source": [
    "### BEGIN SOLUTION"
   ]
  },
  {
   "cell_type": "markdown",
   "id": "de4f44d1-82d2-4789-afd9-5785ba8a9aae",
   "metadata": {},
   "source": [
    "With this representation each example is represented with 768 dimensions.  "
   ]
  },
  {
   "cell_type": "code",
   "execution_count": 7,
   "id": "a205b98e-462d-47e1-bd58-0c2eb54f2885",
   "metadata": {},
   "outputs": [
    {
     "data": {
      "text/html": [
       "<div>\n",
       "<style scoped>\n",
       "    .dataframe tbody tr th:only-of-type {\n",
       "        vertical-align: middle;\n",
       "    }\n",
       "\n",
       "    .dataframe tbody tr th {\n",
       "        vertical-align: top;\n",
       "    }\n",
       "\n",
       "    .dataframe thead th {\n",
       "        text-align: right;\n",
       "    }\n",
       "</style>\n",
       "<table border=\"1\" class=\"dataframe\">\n",
       "  <thead>\n",
       "    <tr style=\"text-align: right;\">\n",
       "      <th></th>\n",
       "      <th>wiki query</th>\n",
       "      <th>text</th>\n",
       "      <th>n_words</th>\n",
       "      <th>bow_labels</th>\n",
       "      <th>emb_labels</th>\n",
       "    </tr>\n",
       "  </thead>\n",
       "  <tbody>\n",
       "    <tr>\n",
       "      <th>0</th>\n",
       "      <td>Raspberry</td>\n",
       "      <td>The raspberry is the edible fruit of a multitude of plant species in the genus Rubus of the rose family, most of which are in the subgenus Idaeobatus.</td>\n",
       "      <td>30</td>\n",
       "      <td>0</td>\n",
       "      <td>2</td>\n",
       "    </tr>\n",
       "    <tr>\n",
       "      <th>1</th>\n",
       "      <td>pineapple juice</td>\n",
       "      <td>Pineapple juice is a liquid made from pressing the natural liquid from the pulp of the pineapple (a fruit from a tropical plant).</td>\n",
       "      <td>26</td>\n",
       "      <td>1</td>\n",
       "      <td>2</td>\n",
       "    </tr>\n",
       "    <tr>\n",
       "      <th>2</th>\n",
       "      <td>C++</td>\n",
       "      <td>C, or c, is the third letter in the English and ISO basic Latin alphabets.</td>\n",
       "      <td>18</td>\n",
       "      <td>0</td>\n",
       "      <td>0</td>\n",
       "    </tr>\n",
       "    <tr>\n",
       "      <th>3</th>\n",
       "      <td>Python language</td>\n",
       "      <td>Python is an interpreted high-level general-purpose programming language.</td>\n",
       "      <td>9</td>\n",
       "      <td>0</td>\n",
       "      <td>0</td>\n",
       "    </tr>\n",
       "    <tr>\n",
       "      <th>4</th>\n",
       "      <td>ice skating</td>\n",
       "      <td>Ice skating is the self-propulsion and gliding of a person across an ice surface, using metal-bladed ice skates.</td>\n",
       "      <td>20</td>\n",
       "      <td>2</td>\n",
       "      <td>1</td>\n",
       "    </tr>\n",
       "    <tr>\n",
       "      <th>5</th>\n",
       "      <td>ice hockey</td>\n",
       "      <td>Ice hockey is a contact winter team sport played on ice skates, usually on a rink.</td>\n",
       "      <td>18</td>\n",
       "      <td>2</td>\n",
       "      <td>1</td>\n",
       "    </tr>\n",
       "  </tbody>\n",
       "</table>\n",
       "</div>"
      ],
      "text/plain": [
       "        wiki query  \\\n",
       "0  Raspberry         \n",
       "1  pineapple juice   \n",
       "2  C++               \n",
       "3  Python language   \n",
       "4  ice skating       \n",
       "5  ice hockey        \n",
       "\n",
       "                                                                                                                                                     text  \\\n",
       "0  The raspberry is the edible fruit of a multitude of plant species in the genus Rubus of the rose family, most of which are in the subgenus Idaeobatus.   \n",
       "1  Pineapple juice is a liquid made from pressing the natural liquid from the pulp of the pineapple (a fruit from a tropical plant).                        \n",
       "2  C, or c, is the third letter in the English and ISO basic Latin alphabets.                                                                               \n",
       "3  Python is an interpreted high-level general-purpose programming language.                                                                                \n",
       "4  Ice skating is the self-propulsion and gliding of a person across an ice surface, using metal-bladed ice skates.                                         \n",
       "5  Ice hockey is a contact winter team sport played on ice skates, usually on a rink.                                                                       \n",
       "\n",
       "   n_words  bow_labels  emb_labels  \n",
       "0  30       0           2           \n",
       "1  26       1           2           \n",
       "2  18       0           0           \n",
       "3  9        0           0           \n",
       "4  20       2           1           \n",
       "5  18       2           1           "
      ]
     },
     "execution_count": 7,
     "metadata": {},
     "output_type": "execute_result"
    }
   ],
   "source": [
    "kmeans_emb = KMeans(n_clusters=3)\n",
    "kmeans_emb.fit(emb_sents)\n",
    "wiki_df[\"emb_labels\"] = kmeans_emb.labels_\n",
    "wiki_df"
   ]
  },
  {
   "cell_type": "markdown",
   "id": "b9521abd-1413-4aeb-be1c-84dffcb44b02",
   "metadata": {},
   "source": [
    "Cluster assignment seems pretty good here. It's interesting that first two sentences are clustered together even though there are no direct common words. \n",
    "\n",
    "> *Extra information: Unlike bag-of-words representation in the previous exercise, we are not learning the representation from the given data in this case. We are using transfer learning. The pre-trained model (paraphrase-distilroberta-base-v1) provides a rich sentence representation for a given query sentence which encodes meaningful similarities between words. For example it would know that \"raspberry\" and \"pineapple\" are similar. Because of this K-Means is finding meaningful clusters.*"
   ]
  },
  {
   "cell_type": "markdown",
   "id": "2c4e9841-3918-4a23-ae6f-78a49752dd59",
   "metadata": {},
   "source": [
    "### END SOLUTION"
   ]
  },
  {
   "cell_type": "markdown",
   "id": "50a67c7a-83a4-473a-b710-f31c01f4b6fc",
   "metadata": {},
   "source": [
    "<br><br>"
   ]
  },
  {
   "cell_type": "markdown",
   "id": "436f7a64-57c5-4511-a2c7-bd319dfdc8b7",
   "metadata": {},
   "source": [
    "### 1.4 DBSCAN with cosine distance  \n",
    "rubric={points:10}\n",
    "\n",
    "Let's try `DBSCAN` on our toy dataset. K-Means is kind of bound to the Euclidean distance because it is based on the notion of means. With `DBSCAN` we can try different distance metrics. In the context of text (sparse data), [cosine similarities](https://scikit-learn.org/stable/modules/metrics.html#cosine-similarity) or cosine distances tend to work better. Given vectors $u$ and $v$, the **cosine distance** between the vectors is defined as: \n",
    "\n",
    "$$distance_{cosine}(u,v) = 1 - (\\frac{u \\cdot v}{\\left\\lVert u\\right\\rVert_2 \\left\\lVert v\\right\\rVert_2})$$\n",
    "\n",
    "In this exercise, you'll use DBSCAN with cosine distances. \n",
    "\n",
    "**Your tasks**\n",
    "\n",
    "1. Use DBSCAN to cluster our toy data using sentence embedding representation (`emb_sents`) and `metric='cosine'`. \n",
    "2. Briefly comment on the number of clusters identified and the cluster assignment given by the algorithm.\n",
    "\n",
    "> *Note: You will also have to set appropriate values for the hyperparamters `eps` and `min_samples` to get meaningful clusters, as default values for these hyperparameters won't work on this toy dataset. In order to set appropriate value for `eps`, you may want to examine the distances given by [sklearn's `cosine_distance`](https://scikit-learn.org/stable/modules/generated/sklearn.metrics.pairwise.paired_cosine_distances.html).*"
   ]
  },
  {
   "cell_type": "markdown",
   "id": "97bf9ec1-010c-4a59-bd5a-2d9e9e6aced5",
   "metadata": {},
   "source": [
    "### BEGIN SOLUTION"
   ]
  },
  {
   "cell_type": "code",
   "execution_count": 8,
   "id": "2d6a2328-1154-4d11-b24c-91a4f9ced499",
   "metadata": {},
   "outputs": [
    {
     "name": "stdout",
     "output_type": "stream",
     "text": [
      "          0         1         2         3         4         5\n",
      "0  0.000000  0.621789  0.812247  0.903063  1.021079  0.936146\n",
      "1  0.621789  0.000000  0.951213  0.700289  0.950290  0.992433\n",
      "2  0.812247  0.951213  0.000000  0.785056  0.999326  0.876713\n",
      "3  0.903063  0.700289  0.785056  0.000000  0.896399  0.918941\n",
      "4  1.021079  0.950290  0.999326  0.896399  0.000000  0.372740\n",
      "5  0.936146  0.992433  0.876713  0.918941  0.372740  0.000000\n"
     ]
    },
    {
     "data": {
      "text/html": [
       "<div>\n",
       "<style scoped>\n",
       "    .dataframe tbody tr th:only-of-type {\n",
       "        vertical-align: middle;\n",
       "    }\n",
       "\n",
       "    .dataframe tbody tr th {\n",
       "        vertical-align: top;\n",
       "    }\n",
       "\n",
       "    .dataframe thead th {\n",
       "        text-align: right;\n",
       "    }\n",
       "</style>\n",
       "<table border=\"1\" class=\"dataframe\">\n",
       "  <thead>\n",
       "    <tr style=\"text-align: right;\">\n",
       "      <th></th>\n",
       "      <th>wiki query</th>\n",
       "      <th>text</th>\n",
       "      <th>n_words</th>\n",
       "      <th>bow_labels</th>\n",
       "      <th>emb_labels</th>\n",
       "      <th>dbscan_emb</th>\n",
       "    </tr>\n",
       "  </thead>\n",
       "  <tbody>\n",
       "    <tr>\n",
       "      <th>0</th>\n",
       "      <td>Raspberry</td>\n",
       "      <td>The raspberry is the edible fruit of a multitude of plant species in the genus Rubus of the rose family, most of which are in the subgenus Idaeobatus.</td>\n",
       "      <td>30</td>\n",
       "      <td>0</td>\n",
       "      <td>2</td>\n",
       "      <td>0</td>\n",
       "    </tr>\n",
       "    <tr>\n",
       "      <th>1</th>\n",
       "      <td>pineapple juice</td>\n",
       "      <td>Pineapple juice is a liquid made from pressing the natural liquid from the pulp of the pineapple (a fruit from a tropical plant).</td>\n",
       "      <td>26</td>\n",
       "      <td>1</td>\n",
       "      <td>2</td>\n",
       "      <td>0</td>\n",
       "    </tr>\n",
       "    <tr>\n",
       "      <th>2</th>\n",
       "      <td>C++</td>\n",
       "      <td>C, or c, is the third letter in the English and ISO basic Latin alphabets.</td>\n",
       "      <td>18</td>\n",
       "      <td>0</td>\n",
       "      <td>0</td>\n",
       "      <td>-1</td>\n",
       "    </tr>\n",
       "    <tr>\n",
       "      <th>3</th>\n",
       "      <td>Python language</td>\n",
       "      <td>Python is an interpreted high-level general-purpose programming language.</td>\n",
       "      <td>9</td>\n",
       "      <td>0</td>\n",
       "      <td>0</td>\n",
       "      <td>-1</td>\n",
       "    </tr>\n",
       "    <tr>\n",
       "      <th>4</th>\n",
       "      <td>ice skating</td>\n",
       "      <td>Ice skating is the self-propulsion and gliding of a person across an ice surface, using metal-bladed ice skates.</td>\n",
       "      <td>20</td>\n",
       "      <td>2</td>\n",
       "      <td>1</td>\n",
       "      <td>1</td>\n",
       "    </tr>\n",
       "    <tr>\n",
       "      <th>5</th>\n",
       "      <td>ice hockey</td>\n",
       "      <td>Ice hockey is a contact winter team sport played on ice skates, usually on a rink.</td>\n",
       "      <td>18</td>\n",
       "      <td>2</td>\n",
       "      <td>1</td>\n",
       "      <td>1</td>\n",
       "    </tr>\n",
       "  </tbody>\n",
       "</table>\n",
       "</div>"
      ],
      "text/plain": [
       "        wiki query  \\\n",
       "0  Raspberry         \n",
       "1  pineapple juice   \n",
       "2  C++               \n",
       "3  Python language   \n",
       "4  ice skating       \n",
       "5  ice hockey        \n",
       "\n",
       "                                                                                                                                                     text  \\\n",
       "0  The raspberry is the edible fruit of a multitude of plant species in the genus Rubus of the rose family, most of which are in the subgenus Idaeobatus.   \n",
       "1  Pineapple juice is a liquid made from pressing the natural liquid from the pulp of the pineapple (a fruit from a tropical plant).                        \n",
       "2  C, or c, is the third letter in the English and ISO basic Latin alphabets.                                                                               \n",
       "3  Python is an interpreted high-level general-purpose programming language.                                                                                \n",
       "4  Ice skating is the self-propulsion and gliding of a person across an ice surface, using metal-bladed ice skates.                                         \n",
       "5  Ice hockey is a contact winter team sport played on ice skates, usually on a rink.                                                                       \n",
       "\n",
       "   n_words  bow_labels  emb_labels  dbscan_emb  \n",
       "0  30       0           2           0           \n",
       "1  26       1           2           0           \n",
       "2  18       0           0          -1           \n",
       "3  9        0           0          -1           \n",
       "4  20       2           1           1           \n",
       "5  18       2           1           1           "
      ]
     },
     "execution_count": 8,
     "metadata": {},
     "output_type": "execute_result"
    }
   ],
   "source": [
    "from sklearn.metrics.pairwise import cosine_distances, cosine_similarity\n",
    "\n",
    "print(pd.DataFrame(cosine_distances(emb_sents)))\n",
    "\n",
    "dbscan_emb = DBSCAN(eps=0.65, min_samples=2, metric=\"cosine\")\n",
    "dbscan_emb.fit(emb_sents)\n",
    "wiki_df[\"dbscan_emb\"] = dbscan_emb.labels_\n",
    "wiki_df"
   ]
  },
  {
   "cell_type": "markdown",
   "id": "21be0d8f-796f-4106-a565-bbfa5f8483ad",
   "metadata": {},
   "source": [
    "In our toy dataset, `DBSCAN` with `eps=0.65` and `min_samples=2` or `min_samples=1` is giving us desirable clustering on sentence embedding representations.  "
   ]
  },
  {
   "cell_type": "markdown",
   "id": "c42f5ab0-78a8-4c6b-9bcc-c5f9653764e4",
   "metadata": {},
   "source": [
    "### END SOLUTION"
   ]
  },
  {
   "cell_type": "markdown",
   "id": "9f359f90-e90c-4311-adb2-39b6f9a3433c",
   "metadata": {},
   "source": [
    "<br><br>"
   ]
  },
  {
   "cell_type": "markdown",
   "id": "7a30b339-3799-4d4c-b9d5-c0c048243c1f",
   "metadata": {},
   "source": [
    "### 1.5 Visualizing clusters \n",
    "rubric={points:5}\n",
    "\n",
    "One thing we could do with unlabeled data is visualizing it. That said, our data is high dimensional (each example is represented with 768 dimensions) and high-dimensional data is hard to visualize. One way to visualize high-dimensional data is applying dimensionality reduction to get the most important (2 or 3) components of the dataset and visualizing this low-dimensional data. \n",
    "\n",
    "Given data as a `numpy` array and cluster assignments, the `plot_pca_clusters` function below transforms the given data by applying dimensionality reduction and plots the transformed data into corresponding clusters. \n",
    "\n",
    "> *Note: At this point we are using this function only for visualization and you are not expected to understand the PCA part. Feel free to modify the function as you see fit.*\n",
    "\n",
    "**Your tasks:**\n",
    "\n",
    "1. Call the function `plot_pca_clusters` to visualize the clusters created by the three models above:\n",
    "    - KMeans with bag-of-words representation \n",
    "    - KMeans with sentence embedding representation. \n",
    "    - DBSCAN with sentence embedding representation. "
   ]
  },
  {
   "cell_type": "code",
   "execution_count": 9,
   "id": "5531c582-11c4-4691-8110-4ccc7342fdda",
   "metadata": {},
   "outputs": [],
   "source": [
    "from sklearn.decomposition import PCA # Obtain the principal components\n",
    "\n",
    "def plot_pca_clusters(\n",
    "    data,\n",
    "    cluster_labels,\n",
    "    raw_sents=wiki_df[\"text\"],\n",
    "    show_labels=False,\n",
    "    size=100,\n",
    "    title=\"PCA visualization\",\n",
    "):\n",
    "    \"\"\"\n",
    "    Carry out dimensionality reduction using PCA and plot 2-dimensional clusters.\n",
    "\n",
    "    Parameters\n",
    "    -----------\n",
    "    data : numpy array\n",
    "        data as a numpy array\n",
    "    cluster_labels : list\n",
    "        cluster labels for each row in the dataset\n",
    "    raw_sents : list\n",
    "        the original raw sentences for labeling datapoints\n",
    "    show_labels : boolean\n",
    "        whether you want to show labels for points or not (default: False)\n",
    "    size : int\n",
    "        size of points in the scatterplot\n",
    "    title : str\n",
    "        title for the visualization plot\n",
    "\n",
    "    Returns\n",
    "    -----------\n",
    "    None. Shows the clusters.\n",
    "    \"\"\"\n",
    "\n",
    "    pca = PCA(n_components=2)\n",
    "    principal_comp = pca.fit_transform(data)\n",
    "    pca_df = pd.DataFrame(data=principal_comp, columns=[\"pca1\", \"pca2\"])\n",
    "    pca_df[\"cluster\"] = cluster_labels\n",
    "\n",
    "    plt.figure(figsize=(10, 7))\n",
    "    plt.title(title)\n",
    "    ax = sns.scatterplot(\n",
    "        x=\"pca1\", y=\"pca2\", hue=\"cluster\", data=pca_df, palette=\"tab10\", s=size\n",
    "    )\n",
    "\n",
    "    x = pca_df[\"pca1\"].tolist()\n",
    "    y = pca_df[\"pca2\"].tolist()\n",
    "    if show_labels:\n",
    "        for i, txt in enumerate(raw_sents):\n",
    "            plt.annotate(\" \".join(txt.split()[:10]), (x[i], y[i]))\n",
    "        ax.legend(loc=\"upper right\")\n",
    "\n",
    "    plt.show()"
   ]
  },
  {
   "cell_type": "markdown",
   "id": "b60195d0-3070-43e5-8d76-b59bf9796a6b",
   "metadata": {},
   "source": [
    "### BEGIN SOLUTION"
   ]
  },
  {
   "cell_type": "code",
   "execution_count": 10,
   "id": "22ede708-59a6-47a4-9528-ef7bce39efde",
   "metadata": {},
   "outputs": [
    {
     "data": {
      "image/png": "[encoded data removed]",
      "text/plain": [
       "<Figure size 720x504 with 1 Axes>"
      ]
     },
     "metadata": {
      "needs_background": "light"
     },
     "output_type": "display_data"
    }
   ],
   "source": [
    "labels = kmeans_bow.labels_\n",
    "plot_pca_clusters(\n",
    "    bow_sents, labels, show_labels=True, size=200, title=\"KMeans with bow\"\n",
    ")"
   ]
  },
  {
   "cell_type": "code",
   "execution_count": 11,
   "id": "fc22f0bb-eb1c-4f60-8ffb-2fa9b318396a",
   "metadata": {},
   "outputs": [
    {
     "data": {
      "image/png": "[encoded data removed]",
      "text/plain": [
       "<Figure size 720x504 with 1 Axes>"
      ]
     },
     "metadata": {
      "needs_background": "light"
     },
     "output_type": "display_data"
    }
   ],
   "source": [
    "labels = kmeans_emb.labels_\n",
    "plot_pca_clusters(\n",
    "    emb_sents, labels, show_labels=True, size=200, title=\"KMeans with embeddings\"\n",
    ")"
   ]
  },
  {
   "cell_type": "code",
   "execution_count": 12,
   "id": "cd92f8ad-4e83-4632-af97-56074bc3acac",
   "metadata": {},
   "outputs": [
    {
     "data": {
      "image/png": "[encoded data removed]",
      "text/plain": [
       "<Figure size 720x504 with 1 Axes>"
      ]
     },
     "metadata": {
      "needs_background": "light"
     },
     "output_type": "display_data"
    }
   ],
   "source": [
    "labels = dbscan_emb.labels_\n",
    "plot_pca_clusters(\n",
    "    emb_sents, labels, show_labels=True, size=200, title=\"DBSCAN with embeddings\"\n",
    ")"
   ]
  },
  {
   "cell_type": "markdown",
   "id": "7b9c9754-ec81-4399-abac-7fdaa8f7266b",
   "metadata": {},
   "source": [
    "### END SOLUTION"
   ]
  },
  {
   "cell_type": "markdown",
   "id": "f0bf74a4-86f7-479f-ac54-4fbd0709b126",
   "metadata": {},
   "source": [
    "<br><br><br><br>"
   ]
  },
  {
   "cell_type": "markdown",
   "id": "6f5d135d-cf62-4a8c-990d-631ee1662913",
   "metadata": {},
   "source": [
    "## Exercise 2: Movie recommendations\n",
    "<hr>\n",
    "\n",
    "Let's build simple movie recommendation systems using the [MovieLens dataset](https://www.kaggle.com/prajitdatta/movielens-100k-dataset/data). The original source of the data is [here](https://grouplens.org/datasets/movielens/), and the structure of the data is described in the [README](http://files.grouplens.org/datasets/movielens/ml-latest-small-README.html) that comes with it. The code below reads the data as a CSV assuming that it's under `data/ml-100k/` directory under your lab folder. "
   ]
  },
  {
   "cell_type": "code",
   "execution_count": 13,
   "id": "41780f0a-8c8d-4baf-8059-cf428dad85cf",
   "metadata": {},
   "outputs": [
    {
     "data": {
      "text/html": [
       "<div>\n",
       "<style scoped>\n",
       "    .dataframe tbody tr th:only-of-type {\n",
       "        vertical-align: middle;\n",
       "    }\n",
       "\n",
       "    .dataframe tbody tr th {\n",
       "        vertical-align: top;\n",
       "    }\n",
       "\n",
       "    .dataframe thead th {\n",
       "        text-align: right;\n",
       "    }\n",
       "</style>\n",
       "<table border=\"1\" class=\"dataframe\">\n",
       "  <thead>\n",
       "    <tr style=\"text-align: right;\">\n",
       "      <th></th>\n",
       "      <th>user_id</th>\n",
       "      <th>movie_id</th>\n",
       "      <th>rating</th>\n",
       "      <th>timestamp</th>\n",
       "    </tr>\n",
       "  </thead>\n",
       "  <tbody>\n",
       "    <tr>\n",
       "      <th>0</th>\n",
       "      <td>196</td>\n",
       "      <td>242</td>\n",
       "      <td>3</td>\n",
       "      <td>881250949</td>\n",
       "    </tr>\n",
       "    <tr>\n",
       "      <th>1</th>\n",
       "      <td>186</td>\n",
       "      <td>302</td>\n",
       "      <td>3</td>\n",
       "      <td>891717742</td>\n",
       "    </tr>\n",
       "    <tr>\n",
       "      <th>2</th>\n",
       "      <td>22</td>\n",
       "      <td>377</td>\n",
       "      <td>1</td>\n",
       "      <td>878887116</td>\n",
       "    </tr>\n",
       "    <tr>\n",
       "      <th>3</th>\n",
       "      <td>244</td>\n",
       "      <td>51</td>\n",
       "      <td>2</td>\n",
       "      <td>880606923</td>\n",
       "    </tr>\n",
       "    <tr>\n",
       "      <th>4</th>\n",
       "      <td>166</td>\n",
       "      <td>346</td>\n",
       "      <td>1</td>\n",
       "      <td>886397596</td>\n",
       "    </tr>\n",
       "  </tbody>\n",
       "</table>\n",
       "</div>"
      ],
      "text/plain": [
       "   user_id  movie_id  rating  timestamp\n",
       "0  196      242       3       881250949\n",
       "1  186      302       3       891717742\n",
       "2  22       377       1       878887116\n",
       "3  244      51        2       880606923\n",
       "4  166      346       1       886397596"
      ]
     },
     "execution_count": 13,
     "metadata": {},
     "output_type": "execute_result"
    }
   ],
   "source": [
    "r_cols = [\"user_id\", \"movie_id\", \"rating\", \"timestamp\"]\n",
    "ratings = pd.read_csv(\n",
    "    os.path.join(\"data\", \"ml-100k\", \"u.data\"),\n",
    "    sep=\"\\t\",\n",
    "    names=r_cols,\n",
    "    encoding=\"latin-1\",\n",
    ")\n",
    "ratings.head()"
   ]
  },
  {
   "cell_type": "code",
   "execution_count": 14,
   "id": "206ca960-e598-48ba-b506-3710e3714047",
   "metadata": {},
   "outputs": [],
   "source": [
    "# We'll be using these keys later in the starter code\n",
    "user_key = \"user_id\"\n",
    "item_key = \"movie_id\""
   ]
  },
  {
   "cell_type": "markdown",
   "id": "b05efce7-bc1e-4ff1-888c-5053b4f57479",
   "metadata": {},
   "source": [
    "### 2.1 Terminology\n",
    "rubric={points:6}\n",
    "\n",
    "Here is some notation we will be using in this lab. \n",
    "\n",
    "**Constants**:\n",
    "\n",
    " - $N$: the number of users, indexed by $n$\n",
    " - $M$: the number of movies, indexed by $m$\n",
    " - $\\mathcal{R}$: the set of indices $(n,m)$ where we have ratings in the utility matrix $Y$\n",
    "    - Thus $|\\mathcal{R}|$ is the total number of ratings\n",
    " - $k$: the number of latent dimensions we use in collaborative filtering\n",
    " \n",
    "**The data**:\n",
    "\n",
    " - $Y$: the utility matrix containing ratings, with a lot of missing entries\n",
    " - $Z$: a matrix whose rows $z_m$ represent the features for movie $m$ (size $M\\times d$).\n",
    " - `train_mat` and `valid_mat`: Utility matrices for train and validation sets, respectively\n",
    " \n",
    "    \n",
    "**Your tasks:**    \n",
    "\n",
    "1. What are the values of $N$ and $M$ in movie ratings data?  \n",
    "2. What would be the shape of the dense utility matrix $Y$? \n",
    "3. What would be the fraction of non missing ratings in the utility matrix $Y$? "
   ]
  },
  {
   "cell_type": "code",
   "execution_count": 15,
   "id": "40744eb3-0f31-4237-934e-4694fa82192e",
   "metadata": {},
   "outputs": [],
   "source": [
    "N = None\n",
    "M = None"
   ]
  },
  {
   "cell_type": "markdown",
   "id": "2810fb2f-d56c-4869-8741-15da6fb265dc",
   "metadata": {},
   "source": [
    "### BEGIN SOLUTION"
   ]
  },
  {
   "cell_type": "code",
   "execution_count": 16,
   "id": "e5aee6e4-13d1-4956-8e3e-a6f883a51f70",
   "metadata": {},
   "outputs": [
    {
     "name": "stdout",
     "output_type": "stream",
     "text": [
      "Number of users (N)                : 943\n",
      "Number of movies (M)               : 1682\n"
     ]
    }
   ],
   "source": [
    "N = len(np.unique(ratings[user_key]))\n",
    "M = len(np.unique(ratings[item_key]))\n",
    "print(\"Number of users (N)                : %d\" % N)\n",
    "print(\"Number of movies (M)               : %d\" % M)"
   ]
  },
  {
   "cell_type": "markdown",
   "id": "ee0bc1cc-19e0-4877-a95a-d3d0290f9b71",
   "metadata": {},
   "source": [
    "The shape of utility matrix is: $N \\times M$. In this case it would be 943 by 1682.   "
   ]
  },
  {
   "cell_type": "code",
   "execution_count": 17,
   "id": "42dde81a-c0ae-4f57-8aea-1d8b55ab6040",
   "metadata": {},
   "outputs": [
    {
     "name": "stdout",
     "output_type": "stream",
     "text": [
      "Number of ratings (|R|)            : 100000\n",
      "Fraction of nonzero                : 6.3%\n"
     ]
    }
   ],
   "source": [
    "print(\"Number of ratings (|R|)            : %d\" % len(ratings))\n",
    "print(\"Fraction of nonzero                : %.1f%%\" % (len(ratings) / (N * M) * 100))"
   ]
  },
  {
   "cell_type": "markdown",
   "id": "b15c1259-00f2-4c59-b26d-447cd201cc94",
   "metadata": {},
   "source": [
    "### END SOLUTION"
   ]
  },
  {
   "cell_type": "markdown",
   "id": "5c433a44-37b9-4113-8102-10d918cc84ac",
   "metadata": {},
   "source": [
    "<br><br>"
   ]
  },
  {
   "cell_type": "markdown",
   "id": "af68b939-60c8-4da8-a32e-384b887656b8",
   "metadata": {},
   "source": [
    "### 2.2 Splitting the data\n",
    "rubric={accuracy:4}\n",
    "\n",
    "**Your tasks:**\n",
    "\n",
    "1. Split the ratings data with `test_size=0.2` and `random_state=42`. "
   ]
  },
  {
   "cell_type": "markdown",
   "id": "8152e2be-565c-4244-9e7c-84837bf1b35b",
   "metadata": {},
   "source": [
    "### BEGIN SOLUTION"
   ]
  },
  {
   "cell_type": "code",
   "execution_count": 18,
   "id": "15f5034a-9e20-4cf8-94de-c88c72230cad",
   "metadata": {},
   "outputs": [],
   "source": [
    "from sklearn.model_selection import train_test_split\n",
    "\n",
    "ratings = ratings.drop(columns=\"timestamp\")\n",
    "X = ratings.copy()\n",
    "y = ratings[\"user_id\"]\n",
    "X_train, X_valid, y_train, y_valid = train_test_split(\n",
    "    X, y, test_size=0.2, random_state=42\n",
    ")"
   ]
  },
  {
   "cell_type": "markdown",
   "id": "5355fdb8-f8e7-45c5-bcef-e119547bf462",
   "metadata": {},
   "source": [
    "### END SOLUTION"
   ]
  },
  {
   "cell_type": "markdown",
   "id": "ce1526cf-a7e5-425e-b8e5-dd8cadb53a50",
   "metadata": {},
   "source": [
    "<br><br>"
   ]
  },
  {
   "cell_type": "markdown",
   "id": "3eb483ab-ae9a-4d3d-a2d5-be404c422c14",
   "metadata": {},
   "source": [
    "### 2.3 Utility matrix \n",
    "rubric={points:10}\n",
    "\n",
    "**Your tasks**\n",
    "1. Create utility matrices for train and validation sets. \n",
    "2. Briefly explain the difference between the train and validation utility matrices. \n",
    "\n",
    "> You may use the code from lecture notes with appropriate attributions.  \n",
    "\n",
    "> You won't do it in real life but since our dataset is not that big, create a dense utility matrix in this assignment. You are welcome to try sparse matrix but then you may have to change some started code provided in the later exercises.  "
   ]
  },
  {
   "cell_type": "code",
   "execution_count": 19,
   "id": "b9b8d514-615a-4166-b597-eee2e53dbfd8",
   "metadata": {},
   "outputs": [],
   "source": [
    "user_mapper = dict(zip(np.unique(ratings[user_key]), list(range(N))))\n",
    "item_mapper = dict(zip(np.unique(ratings[item_key]), list(range(M))))\n",
    "user_inverse_mapper = dict(zip(list(range(N)), np.unique(ratings[user_key])))\n",
    "item_inverse_mapper = dict(zip(list(range(M)), np.unique(ratings[item_key])))"
   ]
  },
  {
   "cell_type": "markdown",
   "id": "e16d54bf-dfbd-495d-97ac-d550658d4b80",
   "metadata": {},
   "source": [
    "### BEGIN SOLUTION"
   ]
  },
  {
   "cell_type": "code",
   "execution_count": 20,
   "id": "44c87f12-8371-4c17-82db-44fc5dff090a",
   "metadata": {},
   "outputs": [],
   "source": [
    "def create_Y_from_ratings(data, N, M):\n",
    "    Y = np.zeros((N, M))\n",
    "    Y.fill(np.nan)\n",
    "    for index, val in data.iterrows():\n",
    "        n = user_mapper[val[user_key]]\n",
    "        m = item_mapper[val[item_key]]\n",
    "        Y[n, m] = val[\"rating\"]\n",
    "\n",
    "    return Y"
   ]
  },
  {
   "cell_type": "markdown",
   "id": "59a5ede3-c12d-43bc-87b5-bcd7d1f5d9f1",
   "metadata": {},
   "source": [
    "### END SOLUTION"
   ]
  },
  {
   "cell_type": "code",
   "execution_count": 21,
   "id": "192d8a08-c194-45c2-83ca-63156311401e",
   "metadata": {},
   "outputs": [],
   "source": [
    "train_mat = None\n",
    "valid_mat = None"
   ]
  },
  {
   "cell_type": "markdown",
   "id": "d5d1e07b-b1ea-4487-bd23-dd6012f67f05",
   "metadata": {},
   "source": [
    "### BEGIN SOLUTION"
   ]
  },
  {
   "cell_type": "code",
   "execution_count": 22,
   "id": "98953150-b3b1-47f7-ac55-ffb28bc53ea2",
   "metadata": {},
   "outputs": [
    {
     "name": "stdout",
     "output_type": "stream",
     "text": [
      "train_mat shape:  (943, 1682)\n",
      "valid_mat shape:  (943, 1682)\n",
      "Number of non-nan elements in train_mat:  80000\n",
      "Number of non-nan elements in valid_mat:  20000\n"
     ]
    }
   ],
   "source": [
    "train_mat = create_Y_from_ratings(X_train, N, M)\n",
    "valid_mat = create_Y_from_ratings(X_valid, N, M)\n",
    "\n",
    "print(\"train_mat shape: \", train_mat.shape)\n",
    "print(\"valid_mat shape: \", valid_mat.shape)\n",
    "print(\"Number of non-nan elements in train_mat: \", np.sum(~np.isnan(train_mat)))\n",
    "print(\"Number of non-nan elements in valid_mat: \", np.sum(~np.isnan(valid_mat)))"
   ]
  },
  {
   "cell_type": "markdown",
   "id": "ae583eb5-5b33-4861-8929-7eb7cc59b941",
   "metadata": {},
   "source": [
    "Both the training utility matrix `train_mat` and validation utility matrix `valid_mat` are of shape N by M but `train_mat` only has the ratings from `X_train`, whereas `valid_mat` only has the ratings from `X_valid` and all other ratings missing. "
   ]
  },
  {
   "cell_type": "markdown",
   "id": "b1ab84de-446e-42aa-bd5b-7a86cf03900d",
   "metadata": {},
   "source": [
    "### END SOLUTION"
   ]
  },
  {
   "cell_type": "markdown",
   "id": "bce90c62-f51b-4c35-a136-52176cbf8ea3",
   "metadata": {},
   "source": [
    "<br><br>"
   ]
  },
  {
   "cell_type": "markdown",
   "id": "a94b8ac2-56be-4193-abda-fea9d4cefb4a",
   "metadata": {},
   "source": [
    "### 2.4 Evaluation and baseline\n",
    "rubric={reasoning:10}\n",
    "\n",
    "To compare different models you build in this homework, let's write a couple of functions for evaluation. \n",
    "- The `error` function returns RMSE.\n",
    "- The `evaluate` function prints the train and validation RMSEs. \n",
    "\n",
    "**Your task:**\n",
    "\n",
    "1. Briefly explain what exactly we are comparing to evaluate recommender systems. \n",
    "2. Implement the global average baseline, where you predict everything as the global average rating. "
   ]
  },
  {
   "cell_type": "code",
   "execution_count": 23,
   "id": "15c3c76a-5d5b-4773-a48c-0f26d5ec5ec8",
   "metadata": {},
   "outputs": [],
   "source": [
    "def error(Y1, Y2):\n",
    "    \"\"\"\n",
    "    Returns the root mean squared error (RMSE).\n",
    "    \"\"\"\n",
    "    return np.sqrt(np.nanmean((Y1 - Y2) ** 2))\n",
    "\n",
    "\n",
    "def evaluate(pred_Y, train_mat, valid_mat, model_name=\"Global average\"):\n",
    "    print(\"%s train RMSE: %0.2f\" % (model_name, error(pred_Y, train_mat)))\n",
    "    print(\"%s valid RMSE: %0.2f\" % (model_name, error(pred_Y, valid_mat)))"
   ]
  },
  {
   "cell_type": "markdown",
   "id": "510605db-f3f6-4ac5-ba9e-067c7801d75e",
   "metadata": {},
   "source": [
    "### BEGIN SOLUTION\n",
    "\n",
    "Once we have train and validation utility matrices, we predict ratings in the utility matrix. Once we have predictions, here is our plan for evaluation:\n",
    "\n",
    "- Compare predictions with the non-NaN ratings in the train set to get train root mean squared error (RMSE)\n",
    "- Compare predictions with the non-NaN ratings in the validation set to get validation RMSE. \n",
    "\n",
    "RMSE is a standard way to benchmark recommender systems. But it doesn't necessarily measure what we want in recommender systems. First of all, there is no ground truth in the context of recommender systems. The overall goal is to find items that the user is actually interested in, and along with the rating the user would give to the item, there are many other considerations such as diversity, freshness, and trust, which are not really captured by RMSE. "
   ]
  },
  {
   "cell_type": "code",
   "execution_count": 27,
   "id": "dc4e7692-1d10-487a-8e8c-8d8820b38138",
   "metadata": {},
   "outputs": [
    {
     "data": {
      "text/html": [
       "<div>\n",
       "<style scoped>\n",
       "    .dataframe tbody tr th:only-of-type {\n",
       "        vertical-align: middle;\n",
       "    }\n",
       "\n",
       "    .dataframe tbody tr th {\n",
       "        vertical-align: top;\n",
       "    }\n",
       "\n",
       "    .dataframe thead th {\n",
       "        text-align: right;\n",
       "    }\n",
       "</style>\n",
       "<table border=\"1\" class=\"dataframe\">\n",
       "  <thead>\n",
       "    <tr style=\"text-align: right;\">\n",
       "      <th></th>\n",
       "      <th>0</th>\n",
       "      <th>1</th>\n",
       "      <th>2</th>\n",
       "      <th>3</th>\n",
       "      <th>4</th>\n",
       "      <th>5</th>\n",
       "      <th>6</th>\n",
       "      <th>7</th>\n",
       "      <th>8</th>\n",
       "      <th>9</th>\n",
       "      <th>...</th>\n",
       "      <th>1672</th>\n",
       "      <th>1673</th>\n",
       "      <th>1674</th>\n",
       "      <th>1675</th>\n",
       "      <th>1676</th>\n",
       "      <th>1677</th>\n",
       "      <th>1678</th>\n",
       "      <th>1679</th>\n",
       "      <th>1680</th>\n",
       "      <th>1681</th>\n",
       "    </tr>\n",
       "  </thead>\n",
       "  <tbody>\n",
       "    <tr>\n",
       "      <th>0</th>\n",
       "      <td>3.531262</td>\n",
       "      <td>3.531262</td>\n",
       "      <td>3.531262</td>\n",
       "      <td>3.531262</td>\n",
       "      <td>3.531262</td>\n",
       "      <td>3.531262</td>\n",
       "      <td>3.531262</td>\n",
       "      <td>3.531262</td>\n",
       "      <td>3.531262</td>\n",
       "      <td>3.531262</td>\n",
       "      <td>...</td>\n",
       "      <td>3.531262</td>\n",
       "      <td>3.531262</td>\n",
       "      <td>3.531262</td>\n",
       "      <td>3.531262</td>\n",
       "      <td>3.531262</td>\n",
       "      <td>3.531262</td>\n",
       "      <td>3.531262</td>\n",
       "      <td>3.531262</td>\n",
       "      <td>3.531262</td>\n",
       "      <td>3.531262</td>\n",
       "    </tr>\n",
       "    <tr>\n",
       "      <th>1</th>\n",
       "      <td>3.531262</td>\n",
       "      <td>3.531262</td>\n",
       "      <td>3.531262</td>\n",
       "      <td>3.531262</td>\n",
       "      <td>3.531262</td>\n",
       "      <td>3.531262</td>\n",
       "      <td>3.531262</td>\n",
       "      <td>3.531262</td>\n",
       "      <td>3.531262</td>\n",
       "      <td>3.531262</td>\n",
       "      <td>...</td>\n",
       "      <td>3.531262</td>\n",
       "      <td>3.531262</td>\n",
       "      <td>3.531262</td>\n",
       "      <td>3.531262</td>\n",
       "      <td>3.531262</td>\n",
       "      <td>3.531262</td>\n",
       "      <td>3.531262</td>\n",
       "      <td>3.531262</td>\n",
       "      <td>3.531262</td>\n",
       "      <td>3.531262</td>\n",
       "    </tr>\n",
       "    <tr>\n",
       "      <th>2</th>\n",
       "      <td>3.531262</td>\n",
       "      <td>3.531262</td>\n",
       "      <td>3.531262</td>\n",
       "      <td>3.531262</td>\n",
       "      <td>3.531262</td>\n",
       "      <td>3.531262</td>\n",
       "      <td>3.531262</td>\n",
       "      <td>3.531262</td>\n",
       "      <td>3.531262</td>\n",
       "      <td>3.531262</td>\n",
       "      <td>...</td>\n",
       "      <td>3.531262</td>\n",
       "      <td>3.531262</td>\n",
       "      <td>3.531262</td>\n",
       "      <td>3.531262</td>\n",
       "      <td>3.531262</td>\n",
       "      <td>3.531262</td>\n",
       "      <td>3.531262</td>\n",
       "      <td>3.531262</td>\n",
       "      <td>3.531262</td>\n",
       "      <td>3.531262</td>\n",
       "    </tr>\n",
       "    <tr>\n",
       "      <th>3</th>\n",
       "      <td>3.531262</td>\n",
       "      <td>3.531262</td>\n",
       "      <td>3.531262</td>\n",
       "      <td>3.531262</td>\n",
       "      <td>3.531262</td>\n",
       "      <td>3.531262</td>\n",
       "      <td>3.531262</td>\n",
       "      <td>3.531262</td>\n",
       "      <td>3.531262</td>\n",
       "      <td>3.531262</td>\n",
       "      <td>...</td>\n",
       "      <td>3.531262</td>\n",
       "      <td>3.531262</td>\n",
       "      <td>3.531262</td>\n",
       "      <td>3.531262</td>\n",
       "      <td>3.531262</td>\n",
       "      <td>3.531262</td>\n",
       "      <td>3.531262</td>\n",
       "      <td>3.531262</td>\n",
       "      <td>3.531262</td>\n",
       "      <td>3.531262</td>\n",
       "    </tr>\n",
       "    <tr>\n",
       "      <th>4</th>\n",
       "      <td>3.531262</td>\n",
       "      <td>3.531262</td>\n",
       "      <td>3.531262</td>\n",
       "      <td>3.531262</td>\n",
       "      <td>3.531262</td>\n",
       "      <td>3.531262</td>\n",
       "      <td>3.531262</td>\n",
       "      <td>3.531262</td>\n",
       "      <td>3.531262</td>\n",
       "      <td>3.531262</td>\n",
       "      <td>...</td>\n",
       "      <td>3.531262</td>\n",
       "      <td>3.531262</td>\n",
       "      <td>3.531262</td>\n",
       "      <td>3.531262</td>\n",
       "      <td>3.531262</td>\n",
       "      <td>3.531262</td>\n",
       "      <td>3.531262</td>\n",
       "      <td>3.531262</td>\n",
       "      <td>3.531262</td>\n",
       "      <td>3.531262</td>\n",
       "    </tr>\n",
       "  </tbody>\n",
       "</table>\n",
       "<p>5 rows × 1682 columns</p>\n",
       "</div>"
      ],
      "text/plain": [
       "          0         1         2         3         4         5         6  \\\n",
       "0  3.531262  3.531262  3.531262  3.531262  3.531262  3.531262  3.531262   \n",
       "1  3.531262  3.531262  3.531262  3.531262  3.531262  3.531262  3.531262   \n",
       "2  3.531262  3.531262  3.531262  3.531262  3.531262  3.531262  3.531262   \n",
       "3  3.531262  3.531262  3.531262  3.531262  3.531262  3.531262  3.531262   \n",
       "4  3.531262  3.531262  3.531262  3.531262  3.531262  3.531262  3.531262   \n",
       "\n",
       "          7         8         9  ...      1672      1673      1674      1675  \\\n",
       "0  3.531262  3.531262  3.531262  ...  3.531262  3.531262  3.531262  3.531262   \n",
       "1  3.531262  3.531262  3.531262  ...  3.531262  3.531262  3.531262  3.531262   \n",
       "2  3.531262  3.531262  3.531262  ...  3.531262  3.531262  3.531262  3.531262   \n",
       "3  3.531262  3.531262  3.531262  ...  3.531262  3.531262  3.531262  3.531262   \n",
       "4  3.531262  3.531262  3.531262  ...  3.531262  3.531262  3.531262  3.531262   \n",
       "\n",
       "       1676      1677      1678      1679      1680      1681  \n",
       "0  3.531262  3.531262  3.531262  3.531262  3.531262  3.531262  \n",
       "1  3.531262  3.531262  3.531262  3.531262  3.531262  3.531262  \n",
       "2  3.531262  3.531262  3.531262  3.531262  3.531262  3.531262  \n",
       "3  3.531262  3.531262  3.531262  3.531262  3.531262  3.531262  \n",
       "4  3.531262  3.531262  3.531262  3.531262  3.531262  3.531262  \n",
       "\n",
       "[5 rows x 1682 columns]"
      ]
     },
     "execution_count": 27,
     "metadata": {},
     "output_type": "execute_result"
    }
   ],
   "source": [
    "avg = np.nanmean(train_mat)\n",
    "pred_g = np.zeros(train_mat.shape) + avg\n",
    "pd.DataFrame(pred_g).head()"
   ]
  },
  {
   "cell_type": "code",
   "execution_count": 28,
   "id": "891bea00-c5d2-40f1-9b11-76e3b51397b4",
   "metadata": {},
   "outputs": [
    {
     "name": "stdout",
     "output_type": "stream",
     "text": [
      "Global average train RMSE: 1.13\n",
      "Global average valid RMSE: 1.12\n"
     ]
    }
   ],
   "source": [
    "evaluate(pred_g, train_mat, valid_mat, model_name=\"Global average\")"
   ]
  },
  {
   "cell_type": "code",
   "execution_count": null,
   "id": "6b5ec933-968b-47fe-b501-8367f42a9787",
   "metadata": {},
   "outputs": [],
   "source": [
    "### END SOLUTION"
   ]
  },
  {
   "cell_type": "markdown",
   "id": "161a6ab6-62ef-4fdd-ba0d-5e7e920154a3",
   "metadata": {},
   "source": [
    "<br><br>"
   ]
  },
  {
   "cell_type": "markdown",
   "id": "2d9a02d5-bf63-428a-8bac-9fa6f2f38681",
   "metadata": {},
   "source": [
    "### (Optional) 2.5 $k$-nearest neighbours imputation\n",
    "rubric={points:1}\n",
    "\n",
    "**Your tasks:**\n",
    "\n",
    "Try [KNNImputer](https://scikit-learn.org/stable/modules/generated/sklearn.impute.KNNImputer.html) to fill in the missing entries. Discuss your observations. "
   ]
  },
  {
   "cell_type": "markdown",
   "id": "8567e44d-bf19-4664-b4bf-9dfd4234add2",
   "metadata": {},
   "source": [
    "### BEGIN SOLUTION"
   ]
  },
  {
   "cell_type": "code",
   "execution_count": 24,
   "id": "946fedbd-d881-4b90-bc98-c9617035a0d7",
   "metadata": {},
   "outputs": [
    {
     "name": "stdout",
     "output_type": "stream",
     "text": [
      "\n",
      "Number of neighbours:  10\n",
      "(1682,)\n",
      "k-nearest neighbours imputation, k=10 train RMSE: 0.00\n",
      "k-nearest neighbours imputation, k=10 valid RMSE: 0.98\n",
      "\n",
      "Number of neighbours:  15\n",
      "(1682,)\n",
      "k-nearest neighbours imputation, k=15 train RMSE: 0.00\n",
      "k-nearest neighbours imputation, k=15 valid RMSE: 0.97\n",
      "\n",
      "Number of neighbours:  20\n",
      "(1682,)\n",
      "k-nearest neighbours imputation, k=20 train RMSE: 0.00\n",
      "k-nearest neighbours imputation, k=20 valid RMSE: 0.97\n",
      "\n",
      "Number of neighbours:  40\n",
      "(1682,)\n",
      "k-nearest neighbours imputation, k=40 train RMSE: 0.00\n",
      "k-nearest neighbours imputation, k=40 valid RMSE: 0.98\n"
     ]
    }
   ],
   "source": [
    "from sklearn.impute import KNNImputer\n",
    "\n",
    "num_neighs = [10, 15, 20, 40]\n",
    "for n_neighbors in num_neighs:\n",
    "    print(\"\\nNumber of neighbours: \", n_neighbors)\n",
    "    imputer = KNNImputer(n_neighbors=n_neighbors)\n",
    "    pred_knn = imputer.fit_transform(train_mat)          \n",
    "    keep_cols = ~np.isnan(train_mat).all(axis=0)\n",
    "    print(keep_cols.shape)\n",
    "    evaluate(pred_knn, \n",
    "             train_mat[:, keep_cols], \n",
    "             valid_mat[:, keep_cols], \n",
    "             model_name=f\"k-nearest neighbours imputation, k={n_neighbors}\")"
   ]
  },
  {
   "cell_type": "markdown",
   "id": "4eb76338-35ac-4bd7-87fb-914a9cafb32b",
   "metadata": {},
   "source": [
    "The training RMSE is zero here because KNN imputer only imputes missing values. With `n_neighbors = 15 or 20`, we are getting the best validation RMSE so far although the difference between average of per-user and per-movie baseline and this one is not much.\n",
    "\n",
    "Also, in order for the imputer to word, we had to remove the columns where all entries were NaN because KNN imputer is not able to find an average of ratings for such columns. We could impute ratings of such columns with the global average similar to how we did it with other baselines.  "
   ]
  },
  {
   "cell_type": "markdown",
   "id": "190375f8-2826-4501-8a66-2ad39855e4e6",
   "metadata": {},
   "source": [
    "### END SOLUTION"
   ]
  },
  {
   "cell_type": "markdown",
   "id": "ff65bf17-79e9-4b85-9739-bfc9faf540fa",
   "metadata": {},
   "source": [
    "<br><br>"
   ]
  },
  {
   "cell_type": "markdown",
   "id": "b34d2e8f-e22a-4377-9110-fff8d041289e",
   "metadata": {},
   "source": [
    "### 2.6 Use collaborative filtering with the `surprise` package\n",
    "rubric={points:10}\n",
    "\n",
    "Use the [`surprise`](https://surprise.readthedocs.io/en/stable/) package which has implementation of SVD algorithm for collaborative filtering. You can install it as follows in your conda environment. \n",
    "\n",
    "```\n",
    ">> conda activate cpsc330\n",
    ">> conda install -c conda-forge scikit-surprise\n",
    "or \n",
    ">> pip install scikit-surprise\n",
    "```\n",
    "\n",
    "**Your tasks:**\n",
    "\n",
    "1. Carry out cross-validation using SVD algorithm in the package, similar to how we did it in the lecture on Jester dataset. Report mean RMSE and compare it with global baseline. "
   ]
  },
  {
   "cell_type": "markdown",
   "id": "be63c1f7-82d3-4532-82d7-2d55c8f596d5",
   "metadata": {},
   "source": [
    "### BEGIN SOLUTION"
   ]
  },
  {
   "cell_type": "code",
   "execution_count": 25,
   "id": "13fbcdeb-eed8-4d9d-a8a4-596391a80d2a",
   "metadata": {},
   "outputs": [
    {
     "name": "stdout",
     "output_type": "stream",
     "text": [
      "Evaluating RMSE of algorithm SVD on 5 split(s).\n",
      "\n",
      "                  Fold 1  Fold 2  Fold 3  Fold 4  Fold 5  Mean    Std     \n",
      "RMSE (testset)    0.9480  0.9390  0.9372  0.9338  0.9318  0.9380  0.0056  \n",
      "Fit time          3.43    3.36    3.46    3.48    3.43    3.43    0.04    \n",
      "Test time         0.09    0.16    0.09    0.09    0.14    0.11    0.03    \n"
     ]
    },
    {
     "data": {
      "text/html": [
       "<div>\n",
       "<style scoped>\n",
       "    .dataframe tbody tr th:only-of-type {\n",
       "        vertical-align: middle;\n",
       "    }\n",
       "\n",
       "    .dataframe tbody tr th {\n",
       "        vertical-align: top;\n",
       "    }\n",
       "\n",
       "    .dataframe thead th {\n",
       "        text-align: right;\n",
       "    }\n",
       "</style>\n",
       "<table border=\"1\" class=\"dataframe\">\n",
       "  <thead>\n",
       "    <tr style=\"text-align: right;\">\n",
       "      <th></th>\n",
       "      <th>test_rmse</th>\n",
       "      <th>fit_time</th>\n",
       "      <th>test_time</th>\n",
       "    </tr>\n",
       "  </thead>\n",
       "  <tbody>\n",
       "    <tr>\n",
       "      <th>0</th>\n",
       "      <td>0.948023</td>\n",
       "      <td>3.432483</td>\n",
       "      <td>0.085797</td>\n",
       "    </tr>\n",
       "    <tr>\n",
       "      <th>1</th>\n",
       "      <td>0.938994</td>\n",
       "      <td>3.355499</td>\n",
       "      <td>0.161324</td>\n",
       "    </tr>\n",
       "    <tr>\n",
       "      <th>2</th>\n",
       "      <td>0.937206</td>\n",
       "      <td>3.464752</td>\n",
       "      <td>0.088583</td>\n",
       "    </tr>\n",
       "    <tr>\n",
       "      <th>3</th>\n",
       "      <td>0.933830</td>\n",
       "      <td>3.479668</td>\n",
       "      <td>0.087332</td>\n",
       "    </tr>\n",
       "    <tr>\n",
       "      <th>4</th>\n",
       "      <td>0.931818</td>\n",
       "      <td>3.429175</td>\n",
       "      <td>0.143683</td>\n",
       "    </tr>\n",
       "  </tbody>\n",
       "</table>\n",
       "</div>"
      ],
      "text/plain": [
       "   test_rmse  fit_time  test_time\n",
       "0  0.948023   3.432483  0.085797 \n",
       "1  0.938994   3.355499  0.161324 \n",
       "2  0.937206   3.464752  0.088583 \n",
       "3  0.933830   3.479668  0.087332 \n",
       "4  0.931818   3.429175  0.143683 "
      ]
     },
     "execution_count": 25,
     "metadata": {},
     "output_type": "execute_result"
    }
   ],
   "source": [
    "from surprise import SVD, Dataset, KNNBasic, Reader\n",
    "from surprise.model_selection import cross_validate\n",
    "\n",
    "reader = Reader()\n",
    "data = Dataset.load_from_df(ratings, reader)\n",
    "trainset = data.build_full_trainset()\n",
    "algo = SVD()\n",
    "res = cross_validate(algo, data, measures=[\"RMSE\"], cv=5, verbose=True)\n",
    "pd.DataFrame(res)"
   ]
  },
  {
   "cell_type": "code",
   "execution_count": 26,
   "id": "6a72dbe8-8343-4956-bce2-e9c8b250454e",
   "metadata": {},
   "outputs": [
    {
     "data": {
      "text/plain": [
       "test_rmse    0.937974\n",
       "fit_time     3.432315\n",
       "test_time    0.113344\n",
       "dtype: float64"
      ]
     },
     "execution_count": 26,
     "metadata": {},
     "output_type": "execute_result"
    }
   ],
   "source": [
    "pd.DataFrame(res).mean()"
   ]
  },
  {
   "cell_type": "markdown",
   "id": "f35e9cb8-a158-438f-afd4-0d768b657370",
   "metadata": {},
   "source": [
    "### END SOLUTION"
   ]
  },
  {
   "cell_type": "markdown",
   "id": "a044157f-1236-4cb9-8c76-82647f23cc99",
   "metadata": {},
   "source": [
    "<br><br><br><br>"
   ]
  },
  {
   "cell_type": "markdown",
   "id": "e3d184a9-7fad-4e34-8fa7-b10443d83911",
   "metadata": {},
   "source": [
    "## Exercise 3: Short answer questions\n",
    "<hr>\n",
    "\n",
    "rubric={points:10}\n",
    "\n",
    "Answer the following short-answer questions: \n",
    "\n",
    "1. What's the main difference between unsupervised and supervised learning?\n",
    "2. When choosing $k$ in $k$-means, why not just choose the $k$ that leads to the smallest inertia (sum of squared distances within clusters)?\n",
    "3. You decide to use clustering for _outlier detection_; that is, to detect instances that are very atypical compared to all the rest. How might you do this with $k$-means?\n",
    "4. You decide to use clustering for _outlier detection_; that is, to detect instances that are very atypical compared to all the rest. How might you do this with DBSCAN?\n",
    "5. How might you apply clustering to recommendation systems? "
   ]
  },
  {
   "cell_type": "markdown",
   "id": "43410bc8-d121-4da6-997b-b84cbf419e16",
   "metadata": {},
   "source": [
    "### BEGIN SOLUTION"
   ]
  },
  {
   "cell_type": "markdown",
   "id": "c0c0a8d8-0709-4c8f-bc49-61e29c546f87",
   "metadata": {},
   "source": [
    "1. Supervised has target values ($y$), unsupervised does not.\n",
    "2. Because inertia decreases with $k$, so you'd just choose $k=n$, which is not interesting.\n",
    "3. Look for examples that are very far away from their cluster mean.\n",
    "4. Look for examples that were not assigned to any cluster.\n",
    "5. If you cluster items, you could recommend other items in the same cluster when someone looks at a particular item. You could also try clustering users and recommending items to a user based on users in the same cluster. "
   ]
  },
  {
   "cell_type": "markdown",
   "id": "594add2e-3ff6-4b09-8c90-1388934087e9",
   "metadata": {},
   "source": [
    "### END SOLUTION"
   ]
  },
  {
   "cell_type": "markdown",
   "id": "87ea9c37-34c9-4b3e-a2df-e00cedd3e8ae",
   "metadata": {},
   "source": [
    "<br><br><br><br>"
   ]
  },
  {
   "cell_type": "markdown",
   "id": "ab723dc5-4ea6-4c44-ace9-bf345bf8c120",
   "metadata": {},
   "source": [
    "## Submission instructions \n",
    "\n",
    "**PLEASE READ:** When you are ready to submit your assignment do the following:\n",
    "\n",
    "1. Run all cells in your notebook to make sure there are no errors by doing `Kernel -> Restart Kernel and Clear All Outputs` and then `Run -> Run All Cells`. \n",
    "2. Notebooks with cell execution numbers out of order or not starting from “1” will have marks deducted. Notebooks without the output displayed may not be graded at all (because we need to see the output in order to grade your work).\n",
    "3. Upload the assignment using Gradescope's drag and drop tool. Check out this [Gradescope Student Guide](https://lthub.ubc.ca/guides/gradescope-student-guide/) if you need help with Gradescope submission. "
   ]
  }
 ],
 "metadata": {
  "kernelspec": {
   "display_name": "Python [conda env:cpsc330]",
   "language": "python",
   "name": "conda-env-cpsc330-py"
  },
  "language_info": {
   "codemirror_mode": {
    "name": "ipython",
    "version": 3
   },
   "file_extension": ".py",
   "mimetype": "text/x-python",
   "name": "python",
   "nbconvert_exporter": "python",
   "pygments_lexer": "ipython3",
   "version": "3.9.9"
  }
 },
 "nbformat": 4,
 "nbformat_minor": 5
}
